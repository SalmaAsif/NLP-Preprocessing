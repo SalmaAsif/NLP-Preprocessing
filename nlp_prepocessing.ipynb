{
  "nbformat": 4,
  "nbformat_minor": 0,
  "metadata": {
    "colab": {
      "name": "nlp prepocessing.ipynb",
      "provenance": [],
      "collapsed_sections": []
    },
    "kernelspec": {
      "name": "python3",
      "display_name": "Python 3"
    },
    "language_info": {
      "name": "python"
    }
  },
  "cells": [
    {
      "cell_type": "code",
      "execution_count": null,
      "metadata": {
        "colab": {
          "base_uri": "https://localhost:8080/"
        },
        "id": "bPpas5efb7Gm",
        "outputId": "f5bad3dc-7569-4204-c151-4e32acdf3260"
      },
      "outputs": [
        {
          "output_type": "stream",
          "name": "stdout",
          "text": [
            "Looking in indexes: https://pypi.org/simple, https://us-python.pkg.dev/colab-wheels/public/simple/\n",
            "Requirement already satisfied: nltk in /usr/local/lib/python3.7/dist-packages (3.7)\n",
            "Requirement already satisfied: click in /usr/local/lib/python3.7/dist-packages (from nltk) (7.1.2)\n",
            "Requirement already satisfied: joblib in /usr/local/lib/python3.7/dist-packages (from nltk) (1.1.0)\n",
            "Requirement already satisfied: regex>=2021.8.3 in /usr/local/lib/python3.7/dist-packages (from nltk) (2022.6.2)\n",
            "Requirement already satisfied: tqdm in /usr/local/lib/python3.7/dist-packages (from nltk) (4.64.0)\n"
          ]
        }
      ],
      "source": [
        "!pip install nltk\n"
      ]
    },
    {
      "cell_type": "code",
      "source": [
        "paragraph='''Muhammad Ali Jinnah was a barrister, politician and \n",
        "the founder of Pakistan. Jinnah served as the leader of the All-India \n",
        "Muslim League from 1913 until the inception of Pakistan on 14 August 1947, \n",
        "and then as the Dominion of Pakistan\\'s first governor-general until his death. \n",
        "Born at Wazir Mansion in Karachi, Jinnah was trained as a barrister at Lincoln's Inn in London, \n",
        "England. Upon his return to India, he enrolled at the Bombay High Court, and took an interest in national politics, \n",
        "which eventually replaced his legal practice. Jinnah rose to prominence in the Indian National Congress in the first \n",
        "two decades of the 20th century. In these early years of his political career, Jinnah advocated Hindu–Muslim unity, \n",
        "helping to shape the 1916 Lucknow Pact between the Congress and the All-India Muslim League, in which Jinnah had also \n",
        "become prominent. Jinnah became a key leader in the All-India Home Rule League, and proposed a fourteen-point constitutional \n",
        "reform plan to safeguard the political rights of Muslims in the Indian subcontinent. In 1920, however, \n",
        "Jinnah resigned from the Congress when it agreed to follow a campaign of satyagraha, which he regarded as political anarchy. '''"
      ],
      "metadata": {
        "id": "HfpbNir0cINQ"
      },
      "execution_count": null,
      "outputs": []
    },
    {
      "cell_type": "code",
      "source": [
        "import nltk\n",
        "from nltk.stem import PorterStemmer\n",
        "from nltk.corpus import stopwords"
      ],
      "metadata": {
        "id": "mQQK8qIocrWl"
      },
      "execution_count": null,
      "outputs": []
    },
    {
      "cell_type": "code",
      "source": [
        "## tokenization\n",
        "nltk.download('punkt')\n",
        "sentences=nltk.sent_tokenize(paragraph)"
      ],
      "metadata": {
        "colab": {
          "base_uri": "https://localhost:8080/"
        },
        "id": "EJHp1ZvjdCVg",
        "outputId": "7c8a24b5-e45c-403e-efc4-d08522cb2a39"
      },
      "execution_count": null,
      "outputs": [
        {
          "output_type": "stream",
          "name": "stderr",
          "text": [
            "[nltk_data] Downloading package punkt to /root/nltk_data...\n",
            "[nltk_data]   Unzipping tokenizers/punkt.zip.\n"
          ]
        }
      ]
    },
    {
      "cell_type": "code",
      "source": [
        "print(sentences)"
      ],
      "metadata": {
        "colab": {
          "base_uri": "https://localhost:8080/"
        },
        "id": "i4RctNJ6dr-t",
        "outputId": "8fed4da0-0fb0-4559-c377-b007f23be5f1"
      },
      "execution_count": null,
      "outputs": [
        {
          "output_type": "stream",
          "name": "stdout",
          "text": [
            "['Muhammad Ali Jinnah was a barrister, politician and \\nthe founder of Pakistan.', \"Jinnah served as the leader of the All-India \\nMuslim League from 1913 until the inception of Pakistan on 14 August 1947, \\nand then as the Dominion of Pakistan's first governor-general until his death.\", \"Born at Wazir Mansion in Karachi, Jinnah was trained as a barrister at Lincoln's Inn in London, \\nEngland.\", 'Upon his return to India, he enrolled at the Bombay High Court, and took an interest in national politics, \\nwhich eventually replaced his legal practice.', 'Jinnah rose to prominence in the Indian National Congress in the first \\ntwo decades of the 20th century.', 'In these early years of his political career, Jinnah advocated Hindu–Muslim unity, \\nhelping to shape the 1916 Lucknow Pact between the Congress and the All-India Muslim League, in which Jinnah had also \\nbecome prominent.', 'Jinnah became a key leader in the All-India Home Rule League, and proposed a fourteen-point constitutional \\nreform plan to safeguard the political rights of Muslims in the Indian subcontinent.', 'In 1920, however, \\nJinnah resigned from the Congress when it agreed to follow a campaign of satyagraha, which he regarded as political anarchy.']\n"
          ]
        }
      ]
    },
    {
      "cell_type": "code",
      "source": [
        "stemmer=PorterStemmer()\n",
        "stemmer.stem('historical history')"
      ],
      "metadata": {
        "colab": {
          "base_uri": "https://localhost:8080/",
          "height": 36
        },
        "id": "wuyGA9-ieUrD",
        "outputId": "c8ba3417-afe3-48eb-d062-f3b0d0b25f5c"
      },
      "execution_count": null,
      "outputs": [
        {
          "output_type": "execute_result",
          "data": {
            "text/plain": [
              "'historical histori'"
            ],
            "application/vnd.google.colaboratory.intrinsic+json": {
              "type": "string"
            }
          },
          "metadata": {},
          "execution_count": 6
        }
      ]
    },
    {
      "cell_type": "code",
      "source": [
        "nltk.download('wordnet')\n",
        "nltk.download('omw-1.4')\n",
        "from nltk.stem import WordNetLemmatizer\n",
        "lemmatizer=WordNetLemmatizer()"
      ],
      "metadata": {
        "colab": {
          "base_uri": "https://localhost:8080/"
        },
        "id": "Uo5Y3M57enxx",
        "outputId": "f454ccb1-14ee-485d-ab72-ee5eb4b27ae5"
      },
      "execution_count": null,
      "outputs": [
        {
          "output_type": "stream",
          "name": "stderr",
          "text": [
            "[nltk_data] Downloading package wordnet to /root/nltk_data...\n",
            "[nltk_data] Downloading package omw-1.4 to /root/nltk_data...\n"
          ]
        }
      ]
    },
    {
      "cell_type": "code",
      "source": [
        "lemmatizer.lemmatize('history')"
      ],
      "metadata": {
        "colab": {
          "base_uri": "https://localhost:8080/",
          "height": 36
        },
        "id": "07W4QhVjfQME",
        "outputId": "6771d69d-18fa-4e04-be17-59fe75484277"
      },
      "execution_count": null,
      "outputs": [
        {
          "output_type": "execute_result",
          "data": {
            "text/plain": [
              "'history'"
            ],
            "application/vnd.google.colaboratory.intrinsic+json": {
              "type": "string"
            }
          },
          "metadata": {},
          "execution_count": 8
        }
      ]
    },
    {
      "cell_type": "code",
      "source": [
        "len(sentences)"
      ],
      "metadata": {
        "colab": {
          "base_uri": "https://localhost:8080/"
        },
        "id": "VmP7IqeHgbgP",
        "outputId": "887d20eb-1be3-4df2-c8e3-90cef1f7212f"
      },
      "execution_count": null,
      "outputs": [
        {
          "output_type": "execute_result",
          "data": {
            "text/plain": [
              "8"
            ]
          },
          "metadata": {},
          "execution_count": 9
        }
      ]
    },
    {
      "cell_type": "code",
      "source": [
        "import re\n",
        "corpus=[]\n",
        "for i in range(len(sentences)):\n",
        "  review=re.sub('[^a-zA-z]',' ', sentences[i])\n",
        "  review=review.lower()\n",
        "  #review=review.split()\n",
        "  corpus.append(review)\n",
        "corpus"
      ],
      "metadata": {
        "colab": {
          "base_uri": "https://localhost:8080/"
        },
        "id": "ePH1BMSwf2uU",
        "outputId": "00404f1a-2488-46a0-c527-bbb429e1e39a"
      },
      "execution_count": null,
      "outputs": [
        {
          "output_type": "execute_result",
          "data": {
            "text/plain": [
              "['muhammad ali jinnah was a barrister  politician and  the founder of pakistan ',\n",
              " 'jinnah served as the leader of the all india  muslim league from      until the inception of pakistan on    august        and then as the dominion of pakistan s first governor general until his death ',\n",
              " 'born at wazir mansion in karachi  jinnah was trained as a barrister at lincoln s inn in london   england ',\n",
              " 'upon his return to india  he enrolled at the bombay high court  and took an interest in national politics   which eventually replaced his legal practice ',\n",
              " 'jinnah rose to prominence in the indian national congress in the first  two decades of the   th century ',\n",
              " 'in these early years of his political career  jinnah advocated hindu muslim unity   helping to shape the      lucknow pact between the congress and the all india muslim league  in which jinnah had also  become prominent ',\n",
              " 'jinnah became a key leader in the all india home rule league  and proposed a fourteen point constitutional  reform plan to safeguard the political rights of muslims in the indian subcontinent ',\n",
              " 'in       however   jinnah resigned from the congress when it agreed to follow a campaign of satyagraha  which he regarded as political anarchy ']"
            ]
          },
          "metadata": {},
          "execution_count": 10
        }
      ]
    },
    {
      "cell_type": "code",
      "source": [
        "nltk.download('stopwords')"
      ],
      "metadata": {
        "colab": {
          "base_uri": "https://localhost:8080/"
        },
        "id": "nYmGZCQ2kWYU",
        "outputId": "b16065b8-6496-4081-9f54-c36ddfcbf8a9"
      },
      "execution_count": null,
      "outputs": [
        {
          "output_type": "stream",
          "name": "stderr",
          "text": [
            "[nltk_data] Downloading package stopwords to /root/nltk_data...\n",
            "[nltk_data]   Unzipping corpora/stopwords.zip.\n"
          ]
        },
        {
          "output_type": "execute_result",
          "data": {
            "text/plain": [
              "True"
            ]
          },
          "metadata": {},
          "execution_count": 11
        }
      ]
    },
    {
      "cell_type": "code",
      "source": [
        "###stemming\n",
        "for i in corpus:\n",
        "  words=nltk.word_tokenize(i)\n",
        "  for word in words:\n",
        "    if word not in set(stopwords.words('english')):\n",
        "      print(stemmer.stem(word))"
      ],
      "metadata": {
        "colab": {
          "base_uri": "https://localhost:8080/"
        },
        "id": "vBIFSkLKh85N",
        "outputId": "409ecdda-826d-4722-b409-02ff22653380"
      },
      "execution_count": null,
      "outputs": [
        {
          "output_type": "stream",
          "name": "stdout",
          "text": [
            "muhammad\n",
            "ali\n",
            "jinnah\n",
            "barrist\n",
            "politician\n",
            "founder\n",
            "pakistan\n",
            "jinnah\n",
            "serv\n",
            "leader\n",
            "india\n",
            "muslim\n",
            "leagu\n",
            "incept\n",
            "pakistan\n",
            "august\n",
            "dominion\n",
            "pakistan\n",
            "first\n",
            "governor\n",
            "gener\n",
            "death\n",
            "born\n",
            "wazir\n",
            "mansion\n",
            "karachi\n",
            "jinnah\n",
            "train\n",
            "barrist\n",
            "lincoln\n",
            "inn\n",
            "london\n",
            "england\n",
            "upon\n",
            "return\n",
            "india\n",
            "enrol\n",
            "bombay\n",
            "high\n",
            "court\n",
            "took\n",
            "interest\n",
            "nation\n",
            "polit\n",
            "eventu\n",
            "replac\n",
            "legal\n",
            "practic\n",
            "jinnah\n",
            "rose\n",
            "promin\n",
            "indian\n",
            "nation\n",
            "congress\n",
            "first\n",
            "two\n",
            "decad\n",
            "th\n",
            "centuri\n",
            "earli\n",
            "year\n",
            "polit\n",
            "career\n",
            "jinnah\n",
            "advoc\n",
            "hindu\n",
            "muslim\n",
            "uniti\n",
            "help\n",
            "shape\n",
            "lucknow\n",
            "pact\n",
            "congress\n",
            "india\n",
            "muslim\n",
            "leagu\n",
            "jinnah\n",
            "also\n",
            "becom\n",
            "promin\n",
            "jinnah\n",
            "becam\n",
            "key\n",
            "leader\n",
            "india\n",
            "home\n",
            "rule\n",
            "leagu\n",
            "propos\n",
            "fourteen\n",
            "point\n",
            "constitut\n",
            "reform\n",
            "plan\n",
            "safeguard\n",
            "polit\n",
            "right\n",
            "muslim\n",
            "indian\n",
            "subcontin\n",
            "howev\n",
            "jinnah\n",
            "resign\n",
            "congress\n",
            "agre\n",
            "follow\n",
            "campaign\n",
            "satyagraha\n",
            "regard\n",
            "polit\n",
            "anarchi\n"
          ]
        }
      ]
    },
    {
      "cell_type": "code",
      "source": [
        "###Lemmatizer\n",
        "for i in corpus:\n",
        "  words=nltk.word_tokenize(i)\n",
        "  for word in words:\n",
        "    if word not in set(stopwords.words('english')):\n",
        "      lemmatizer.lemmatize(word)"
      ],
      "metadata": {
        "id": "Nl2j46epllQK"
      },
      "execution_count": null,
      "outputs": []
    },
    {
      "cell_type": "code",
      "source": [
        "import re\n",
        "corpus=[]\n",
        "for i in range(len(sentences)):\n",
        "  review=re.sub('[^a-zA-Z]',' ',sentences[i])\n",
        "  review=review.lower()\n",
        "  review=review.split()\n",
        "  review=[lemmatizer.lemmatize(word) for word in review if not word in set(stopwords.words('english'))]\n",
        "  review=' '.join(review)\n",
        "  corpus.append(review)\n",
        "\n",
        "corpus"
      ],
      "metadata": {
        "colab": {
          "base_uri": "https://localhost:8080/"
        },
        "id": "GU2NMXx-qiN2",
        "outputId": "7123dbb6-eb1f-4671-8941-2a956474b65d"
      },
      "execution_count": null,
      "outputs": [
        {
          "output_type": "execute_result",
          "data": {
            "text/plain": [
              "['muhammad ali jinnah barrister politician founder pakistan',\n",
              " 'jinnah served leader india muslim league inception pakistan august dominion pakistan first governor general death',\n",
              " 'born wazir mansion karachi jinnah trained barrister lincoln inn london england',\n",
              " 'upon return india enrolled bombay high court took interest national politics eventually replaced legal practice',\n",
              " 'jinnah rose prominence indian national congress first two decade th century',\n",
              " 'early year political career jinnah advocated hindu muslim unity helping shape lucknow pact congress india muslim league jinnah also become prominent',\n",
              " 'jinnah became key leader india home rule league proposed fourteen point constitutional reform plan safeguard political right muslim indian subcontinent',\n",
              " 'however jinnah resigned congress agreed follow campaign satyagraha regarded political anarchy']"
            ]
          },
          "metadata": {},
          "execution_count": 15
        }
      ]
    },
    {
      "cell_type": "code",
      "source": [
        "from sklearn.feature_extraction.text import CountVectorizer \n",
        "cv=CountVectorizer(ngram_range=(2,3))"
      ],
      "metadata": {
        "id": "rVeXJYOvmVEU"
      },
      "execution_count": null,
      "outputs": []
    },
    {
      "cell_type": "code",
      "source": [
        "x=cv.fit_transform(corpus)\n",
        "x"
      ],
      "metadata": {
        "colab": {
          "base_uri": "https://localhost:8080/"
        },
        "id": "8CuybvxNnBHu",
        "outputId": "12745903-ee87-4171-e1f0-a39a486102ab"
      },
      "execution_count": null,
      "outputs": [
        {
          "output_type": "execute_result",
          "data": {
            "text/plain": [
              "<8x194 sparse matrix of type '<class 'numpy.int64'>'\n",
              "\twith 198 stored elements in Compressed Sparse Row format>"
            ]
          },
          "metadata": {},
          "execution_count": 20
        }
      ]
    },
    {
      "cell_type": "code",
      "source": [
        "cv.vocabulary_"
      ],
      "metadata": {
        "colab": {
          "base_uri": "https://localhost:8080/"
        },
        "id": "KfHmLpu_nItD",
        "outputId": "061bface-f0ae-4d4f-f67b-fa6ac10496c4"
      },
      "execution_count": null,
      "outputs": [
        {
          "output_type": "execute_result",
          "data": {
            "text/plain": [
              "{'advocated hindu': 0,\n",
              " 'advocated hindu muslim': 1,\n",
              " 'agreed follow': 2,\n",
              " 'agreed follow campaign': 3,\n",
              " 'ali jinnah': 4,\n",
              " 'ali jinnah barrister': 5,\n",
              " 'also become': 6,\n",
              " 'also become prominent': 7,\n",
              " 'august dominion': 8,\n",
              " 'august dominion pakistan': 9,\n",
              " 'barrister lincoln': 10,\n",
              " 'barrister lincoln inn': 11,\n",
              " 'barrister politician': 12,\n",
              " 'barrister politician founder': 13,\n",
              " 'became key': 14,\n",
              " 'became key leader': 15,\n",
              " 'become prominent': 16,\n",
              " 'bombay high': 17,\n",
              " 'bombay high court': 18,\n",
              " 'born wazir': 19,\n",
              " 'born wazir mansion': 20,\n",
              " 'campaign satyagraha': 21,\n",
              " 'campaign satyagraha regarded': 22,\n",
              " 'career jinnah': 23,\n",
              " 'career jinnah advocated': 24,\n",
              " 'congress agreed': 25,\n",
              " 'congress agreed follow': 26,\n",
              " 'congress first': 27,\n",
              " 'congress first two': 28,\n",
              " 'congress india': 29,\n",
              " 'congress india muslim': 30,\n",
              " 'constitutional reform': 31,\n",
              " 'constitutional reform plan': 32,\n",
              " 'court took': 33,\n",
              " 'court took interest': 34,\n",
              " 'decade th': 35,\n",
              " 'decade th century': 36,\n",
              " 'dominion pakistan': 37,\n",
              " 'dominion pakistan first': 38,\n",
              " 'early year': 39,\n",
              " 'early year political': 40,\n",
              " 'enrolled bombay': 41,\n",
              " 'enrolled bombay high': 42,\n",
              " 'eventually replaced': 43,\n",
              " 'eventually replaced legal': 44,\n",
              " 'first governor': 45,\n",
              " 'first governor general': 46,\n",
              " 'first two': 47,\n",
              " 'first two decade': 48,\n",
              " 'follow campaign': 49,\n",
              " 'follow campaign satyagraha': 50,\n",
              " 'founder pakistan': 51,\n",
              " 'fourteen point': 52,\n",
              " 'fourteen point constitutional': 53,\n",
              " 'general death': 54,\n",
              " 'governor general': 55,\n",
              " 'governor general death': 56,\n",
              " 'helping shape': 57,\n",
              " 'helping shape lucknow': 58,\n",
              " 'high court': 59,\n",
              " 'high court took': 60,\n",
              " 'hindu muslim': 61,\n",
              " 'hindu muslim unity': 62,\n",
              " 'home rule': 63,\n",
              " 'home rule league': 64,\n",
              " 'however jinnah': 65,\n",
              " 'however jinnah resigned': 66,\n",
              " 'inception pakistan': 67,\n",
              " 'inception pakistan august': 68,\n",
              " 'india enrolled': 69,\n",
              " 'india enrolled bombay': 70,\n",
              " 'india home': 71,\n",
              " 'india home rule': 72,\n",
              " 'india muslim': 73,\n",
              " 'india muslim league': 74,\n",
              " 'indian national': 75,\n",
              " 'indian national congress': 76,\n",
              " 'indian subcontinent': 77,\n",
              " 'inn london': 78,\n",
              " 'inn london england': 79,\n",
              " 'interest national': 80,\n",
              " 'interest national politics': 81,\n",
              " 'jinnah advocated': 82,\n",
              " 'jinnah advocated hindu': 83,\n",
              " 'jinnah also': 84,\n",
              " 'jinnah also become': 85,\n",
              " 'jinnah barrister': 86,\n",
              " 'jinnah barrister politician': 87,\n",
              " 'jinnah became': 88,\n",
              " 'jinnah became key': 89,\n",
              " 'jinnah resigned': 90,\n",
              " 'jinnah resigned congress': 91,\n",
              " 'jinnah rose': 92,\n",
              " 'jinnah rose prominence': 93,\n",
              " 'jinnah served': 94,\n",
              " 'jinnah served leader': 95,\n",
              " 'jinnah trained': 96,\n",
              " 'jinnah trained barrister': 97,\n",
              " 'karachi jinnah': 98,\n",
              " 'karachi jinnah trained': 99,\n",
              " 'key leader': 100,\n",
              " 'key leader india': 101,\n",
              " 'leader india': 102,\n",
              " 'leader india home': 103,\n",
              " 'leader india muslim': 104,\n",
              " 'league inception': 105,\n",
              " 'league inception pakistan': 106,\n",
              " 'league jinnah': 107,\n",
              " 'league jinnah also': 108,\n",
              " 'league proposed': 109,\n",
              " 'league proposed fourteen': 110,\n",
              " 'legal practice': 111,\n",
              " 'lincoln inn': 112,\n",
              " 'lincoln inn london': 113,\n",
              " 'london england': 114,\n",
              " 'lucknow pact': 115,\n",
              " 'lucknow pact congress': 116,\n",
              " 'mansion karachi': 117,\n",
              " 'mansion karachi jinnah': 118,\n",
              " 'muhammad ali': 119,\n",
              " 'muhammad ali jinnah': 120,\n",
              " 'muslim indian': 121,\n",
              " 'muslim indian subcontinent': 122,\n",
              " 'muslim league': 123,\n",
              " 'muslim league inception': 124,\n",
              " 'muslim league jinnah': 125,\n",
              " 'muslim unity': 126,\n",
              " 'muslim unity helping': 127,\n",
              " 'national congress': 128,\n",
              " 'national congress first': 129,\n",
              " 'national politics': 130,\n",
              " 'national politics eventually': 131,\n",
              " 'pact congress': 132,\n",
              " 'pact congress india': 133,\n",
              " 'pakistan august': 134,\n",
              " 'pakistan august dominion': 135,\n",
              " 'pakistan first': 136,\n",
              " 'pakistan first governor': 137,\n",
              " 'plan safeguard': 138,\n",
              " 'plan safeguard political': 139,\n",
              " 'point constitutional': 140,\n",
              " 'point constitutional reform': 141,\n",
              " 'political anarchy': 142,\n",
              " 'political career': 143,\n",
              " 'political career jinnah': 144,\n",
              " 'political right': 145,\n",
              " 'political right muslim': 146,\n",
              " 'politician founder': 147,\n",
              " 'politician founder pakistan': 148,\n",
              " 'politics eventually': 149,\n",
              " 'politics eventually replaced': 150,\n",
              " 'prominence indian': 151,\n",
              " 'prominence indian national': 152,\n",
              " 'proposed fourteen': 153,\n",
              " 'proposed fourteen point': 154,\n",
              " 'reform plan': 155,\n",
              " 'reform plan safeguard': 156,\n",
              " 'regarded political': 157,\n",
              " 'regarded political anarchy': 158,\n",
              " 'replaced legal': 159,\n",
              " 'replaced legal practice': 160,\n",
              " 'resigned congress': 161,\n",
              " 'resigned congress agreed': 162,\n",
              " 'return india': 163,\n",
              " 'return india enrolled': 164,\n",
              " 'right muslim': 165,\n",
              " 'right muslim indian': 166,\n",
              " 'rose prominence': 167,\n",
              " 'rose prominence indian': 168,\n",
              " 'rule league': 169,\n",
              " 'rule league proposed': 170,\n",
              " 'safeguard political': 171,\n",
              " 'safeguard political right': 172,\n",
              " 'satyagraha regarded': 173,\n",
              " 'satyagraha regarded political': 174,\n",
              " 'served leader': 175,\n",
              " 'served leader india': 176,\n",
              " 'shape lucknow': 177,\n",
              " 'shape lucknow pact': 178,\n",
              " 'th century': 179,\n",
              " 'took interest': 180,\n",
              " 'took interest national': 181,\n",
              " 'trained barrister': 182,\n",
              " 'trained barrister lincoln': 183,\n",
              " 'two decade': 184,\n",
              " 'two decade th': 185,\n",
              " 'unity helping': 186,\n",
              " 'unity helping shape': 187,\n",
              " 'upon return': 188,\n",
              " 'upon return india': 189,\n",
              " 'wazir mansion': 190,\n",
              " 'wazir mansion karachi': 191,\n",
              " 'year political': 192,\n",
              " 'year political career': 193}"
            ]
          },
          "metadata": {},
          "execution_count": 21
        }
      ]
    },
    {
      "cell_type": "code",
      "source": [
        "corpus[0]"
      ],
      "metadata": {
        "colab": {
          "base_uri": "https://localhost:8080/",
          "height": 36
        },
        "id": "COo65NptnqWR",
        "outputId": "930b9143-0422-486a-da00-fa9e8800a83e"
      },
      "execution_count": null,
      "outputs": [
        {
          "output_type": "execute_result",
          "data": {
            "text/plain": [
              "'muhammad ali jinnah barrister politician founder pakistan'"
            ],
            "application/vnd.google.colaboratory.intrinsic+json": {
              "type": "string"
            }
          },
          "metadata": {},
          "execution_count": 22
        }
      ]
    },
    {
      "cell_type": "code",
      "source": [
        "x[0].toarray()"
      ],
      "metadata": {
        "colab": {
          "base_uri": "https://localhost:8080/"
        },
        "id": "RZ-cezSVnvAv",
        "outputId": "76463e44-4914-40ce-f161-e82105c7889d"
      },
      "execution_count": null,
      "outputs": [
        {
          "output_type": "execute_result",
          "data": {
            "text/plain": [
              "array([[0, 0, 0, 0, 1, 1, 0, 0, 0, 0, 0, 0, 1, 1, 0, 0, 0, 0, 0, 0, 0, 0,\n",
              "        0, 0, 0, 0, 0, 0, 0, 0, 0, 0, 0, 0, 0, 0, 0, 0, 0, 0, 0, 0, 0, 0,\n",
              "        0, 0, 0, 0, 0, 0, 0, 1, 0, 0, 0, 0, 0, 0, 0, 0, 0, 0, 0, 0, 0, 0,\n",
              "        0, 0, 0, 0, 0, 0, 0, 0, 0, 0, 0, 0, 0, 0, 0, 0, 0, 0, 0, 0, 1, 1,\n",
              "        0, 0, 0, 0, 0, 0, 0, 0, 0, 0, 0, 0, 0, 0, 0, 0, 0, 0, 0, 0, 0, 0,\n",
              "        0, 0, 0, 0, 0, 0, 0, 0, 0, 1, 1, 0, 0, 0, 0, 0, 0, 0, 0, 0, 0, 0,\n",
              "        0, 0, 0, 0, 0, 0, 0, 0, 0, 0, 0, 0, 0, 0, 0, 1, 1, 0, 0, 0, 0, 0,\n",
              "        0, 0, 0, 0, 0, 0, 0, 0, 0, 0, 0, 0, 0, 0, 0, 0, 0, 0, 0, 0, 0, 0,\n",
              "        0, 0, 0, 0, 0, 0, 0, 0, 0, 0, 0, 0, 0, 0, 0, 0, 0, 0]])"
            ]
          },
          "metadata": {},
          "execution_count": 23
        }
      ]
    },
    {
      "cell_type": "code",
      "source": [
        "###TF-IDF\n",
        "from sklearn.feature_extraction.text import TfidfVectorizer\n",
        "cv=TfidfVectorizer(ngram_range=(1,2), max_features=10)\n",
        "x=cv.fit_transform(corpus)\n",
        "x"
      ],
      "metadata": {
        "colab": {
          "base_uri": "https://localhost:8080/"
        },
        "id": "KrHUUTia1-EX",
        "outputId": "0bc332c2-bb39-40d4-99a2-f987c2f97bc0"
      },
      "execution_count": null,
      "outputs": [
        {
          "output_type": "execute_result",
          "data": {
            "text/plain": [
              "<8x10 sparse matrix of type '<class 'numpy.float64'>'\n",
              "\twith 31 stored elements in Compressed Sparse Row format>"
            ]
          },
          "metadata": {},
          "execution_count": 40
        }
      ]
    },
    {
      "cell_type": "code",
      "source": [
        "corpus[0]"
      ],
      "metadata": {
        "colab": {
          "base_uri": "https://localhost:8080/",
          "height": 36
        },
        "id": "UzDN0EUo2vEG",
        "outputId": "8b0cafbd-204a-4739-8f33-269787959a6b"
      },
      "execution_count": null,
      "outputs": [
        {
          "output_type": "execute_result",
          "data": {
            "text/plain": [
              "'muhammad ali jinnah barrister politician founder pakistan'"
            ],
            "application/vnd.google.colaboratory.intrinsic+json": {
              "type": "string"
            }
          },
          "metadata": {},
          "execution_count": 41
        }
      ]
    },
    {
      "cell_type": "code",
      "source": [
        "x[0].toarray()"
      ],
      "metadata": {
        "colab": {
          "base_uri": "https://localhost:8080/"
        },
        "id": "e_wXHhbT20bl",
        "outputId": "00c95826-e534-44e8-b7dd-34684e5a17db"
      },
      "execution_count": null,
      "outputs": [
        {
          "output_type": "execute_result",
          "data": {
            "text/plain": [
              "array([[0.        , 0.        , 0.        , 0.        , 0.        ,\n",
              "        0.4701046 , 0.        , 0.        , 0.88261071, 0.        ]])"
            ]
          },
          "metadata": {},
          "execution_count": 42
        }
      ]
    },
    {
      "cell_type": "code",
      "source": [
        ""
      ],
      "metadata": {
        "id": "QuOHJLVH259f"
      },
      "execution_count": null,
      "outputs": []
    }
  ]
}